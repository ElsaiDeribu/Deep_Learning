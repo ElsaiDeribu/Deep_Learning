{
  "nbformat": 4,
  "nbformat_minor": 0,
  "metadata": {
    "colab": {
      "provenance": []
    },
    "kernelspec": {
      "name": "python3",
      "display_name": "Python 3"
    },
    "language_info": {
      "name": "python"
    }
  },
  "cells": [
    {
      "cell_type": "code",
      "source": [
        "import torch"
      ],
      "metadata": {
        "id": "B81E5WLyInZv"
      },
      "execution_count": 47,
      "outputs": []
    },
    {
      "cell_type": "code",
      "source": [
        "# Activation functions\n",
        "class ActivationFunctions:\n",
        "    @staticmethod\n",
        "    def ReLU(inputs):\n",
        "        return torch.maximum(torch.tensor(0, dtype=inputs.dtype), inputs)\n",
        "\n",
        "    @staticmethod\n",
        "    def Sigmoid(inputs):\n",
        "        return 1 / (1 + torch.exp(-inputs))\n",
        "\n",
        "    @staticmethod\n",
        "    def Softmax(inputs):\n",
        "        exp_values = torch.exp(inputs - torch.max(inputs, dim=1, keepdim=True).values)\n",
        "        return exp_values / torch.sum(exp_values, dim=1, keepdim=True)\n"
      ],
      "metadata": {
        "id": "_zMHdiQOuWgJ"
      },
      "execution_count": 48,
      "outputs": []
    },
    {
      "cell_type": "code",
      "source": [
        "# Dense Layer\n",
        "class DenseLayer:\n",
        "    def __init__(self, input_size, output_size, activation_function):\n",
        "        self.weights = torch.rand((input_size, output_size), requires_grad=True)\n",
        "        self.biases = torch.zeros((1, output_size), requires_grad=True)\n",
        "        self.activation_function = activation_function\n",
        "        self.output = None\n",
        "\n",
        "    def forward(self, inputs):\n",
        "        weighted_sum = torch.matmul(inputs, self.weights) + self.biases\n",
        "        self.output = self.activation_function(weighted_sum)\n"
      ],
      "metadata": {
        "id": "cBSvP0Pl9ejp"
      },
      "execution_count": 49,
      "outputs": []
    },
    {
      "cell_type": "code",
      "source": [
        "\n",
        "# Categorical cross entropy\n",
        "def categorical_crossentropy(y_pred, y_true):\n",
        "    y_pred_clipped = torch.clamp(y_pred, 1e-7, 1 - 1e-7)\n",
        "    log_likelihoods = -torch.sum(y_true * torch.log(y_pred_clipped))\n",
        "    return log_likelihoods\n"
      ],
      "metadata": {
        "id": "gNVNHjiCD9rX"
      },
      "execution_count": 50,
      "outputs": []
    },
    {
      "cell_type": "code",
      "source": [
        "# Neural Network\n",
        "class NeuralNetwork:\n",
        "    def __init__(self):\n",
        "        self.layer1 = DenseLayer(4, 18, ActivationFunctions.ReLU)\n",
        "        self.layer2 = DenseLayer(18, 18, ActivationFunctions.ReLU)\n",
        "        self.layer3 = DenseLayer(18, 18, ActivationFunctions.ReLU)\n",
        "        self.output_layer = DenseLayer(18, 3, ActivationFunctions.Softmax)\n",
        "        self.output = None\n",
        "\n",
        "    def forward(self, input_data):\n",
        "        self.layer1.forward(input_data)\n",
        "        self.layer2.forward(self.layer1.output)\n",
        "        self.layer3.forward(self.layer2.output)\n",
        "        self.output_layer.forward(self.layer3.output)\n",
        "        self.output = self.output_layer.output\n"
      ],
      "metadata": {
        "id": "KUZMKbxdGRvH"
      },
      "execution_count": 51,
      "outputs": []
    },
    {
      "cell_type": "code",
      "source": [
        "\n",
        "# Set random seed\n",
        "torch.manual_seed(97)"
      ],
      "metadata": {
        "id": "hchoCufXPl-A",
        "outputId": "f2eec41b-6c67-4871-bbaf-9def46401865",
        "colab": {
          "base_uri": "https://localhost:8080/"
        }
      },
      "execution_count": 52,
      "outputs": [
        {
          "output_type": "execute_result",
          "data": {
            "text/plain": [
              "<torch._C.Generator at 0x7e235fd3fe90>"
            ]
          },
          "metadata": {},
          "execution_count": 52
        }
      ]
    },
    {
      "cell_type": "markdown",
      "source": [
        "Using ReLU for hidden layers"
      ],
      "metadata": {
        "id": "9xNCs_nIJPOd"
      }
    },
    {
      "cell_type": "code",
      "source": [
        "# Input data\n",
        "input_data = torch.rand((1, 4), requires_grad=True)\n",
        "target = torch.tensor([1, 0, 1], dtype=torch.float32, requires_grad=True)\n"
      ],
      "metadata": {
        "id": "SsuhoCDNK_t-"
      },
      "execution_count": 53,
      "outputs": []
    },
    {
      "cell_type": "code",
      "source": [
        "# Create neural network\n",
        "neural_net_relu = NeuralNetwork()\n",
        "neural_net_sigmoid = NeuralNetwork()\n"
      ],
      "metadata": {
        "id": "2STSyphYEAwv"
      },
      "execution_count": 54,
      "outputs": []
    },
    {
      "cell_type": "markdown",
      "source": [
        "Using Sigmoid for hidden layers"
      ],
      "metadata": {
        "id": "ClLvs_EFJz2A"
      }
    },
    {
      "cell_type": "code",
      "source": [
        "# Output after performing forward pass\n",
        "print(\"ReLU Output: \", neural_net_relu.output_layer.output)\n",
        "print(\"Sigmoid Output: \", neural_net_sigmoid.output_layer.output)\n"
      ],
      "metadata": {
        "colab": {
          "base_uri": "https://localhost:8080/"
        },
        "id": "f9fk7XhfECs3",
        "outputId": "455006f7-f620-425d-d35e-f23c9c9b3e05"
      },
      "execution_count": 62,
      "outputs": [
        {
          "output_type": "stream",
          "name": "stdout",
          "text": [
            "ReLU Output:  tensor([[0.0000e+00, 4.5067e-29, 1.0000e+00]], grad_fn=<DivBackward0>)\n",
            "Sigmoid Output:  tensor([[2.7532e-25, 5.4665e-26, 1.0000e+00]], grad_fn=<DivBackward0>)\n"
          ]
        }
      ]
    },
    {
      "cell_type": "code",
      "source": [
        "# Loss and accuracy for ReLU\n",
        "loss_relu = categorical_crossentropy(neural_net_relu.output, target)\n",
        "accuracy_relu = target == torch.argmax(neural_net_relu.output, dim=1)\n",
        "\n",
        "# Loss and accuracy for Sigmoid\n",
        "loss_sigmoid = categorical_crossentropy(neural_net_sigmoid.output, target)\n",
        "accuracy_sigmoid = target == torch.argmax(neural_net_sigmoid.output, dim=1)\n",
        "\n",
        "print(\"ReLU Categorical Cross-Entropy Loss:\", loss_relu.item())\n",
        "print(\"ReLU Accuracy:\", accuracy_relu)\n",
        "\n",
        "print(\"Sigmoid Categorical Cross-Entropy Loss:\", loss_sigmoid.item())\n",
        "print(\"Sigmoid Accuracy:\", accuracy_sigmoid)"
      ],
      "metadata": {
        "id": "cpU4Wg4-KPNY",
        "outputId": "63162129-d551-43cd-f744-a251a0a1a5bb",
        "colab": {
          "base_uri": "https://localhost:8080/"
        }
      },
      "execution_count": 59,
      "outputs": [
        {
          "output_type": "stream",
          "name": "stdout",
          "text": [
            "ReLU Categorical Cross-Entropy Loss: 16.11809539794922\n",
            "ReLU Accuracy: tensor([False, False, False])\n",
            "Sigmoid Categorical Cross-Entropy Loss: 16.11809539794922\n",
            "Sigmoid Accuracy: tensor([False, False, False])\n"
          ]
        }
      ]
    }
  ]
}